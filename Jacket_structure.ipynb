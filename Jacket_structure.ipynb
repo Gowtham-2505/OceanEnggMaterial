{
 "cells": [
  {
   "cell_type": "code",
   "execution_count": 1,
   "metadata": {},
   "outputs": [],
   "source": [
    "import numpy as np"
   ]
  },
  {
   "cell_type": "code",
   "execution_count": 55,
   "metadata": {},
   "outputs": [],
   "source": [
    "D = 500 #mm\n",
    "t = 20 #mm\n",
    "d = D-2*t  #mm\n",
    "I = (np.pi/64)*(pow(D,4)-pow(d,4)) #mm^4\n",
    "A = (np.pi/4)*(pow(D,2)-pow(d,2)) #mm^2\n",
    "r = np.sqrt(I/A)  #mm\n",
    "l = 12000 #mm\n",
    "#In Jacket structures \n",
    "k = 0.8\n",
    "klr = k*l/r\n",
    "#Axial force given\n",
    "P = 1200  #KN\n",
    "fa = P/A*1e+03 #KN/mm^2\n",
    "rho = 1e+03/(1e+03**3) #Kg/mm^3\n",
    "g = 9.81 #m/s^2\n",
    "depth = 70 #m"
   ]
  },
  {
   "cell_type": "code",
   "execution_count": 56,
   "metadata": {},
   "outputs": [],
   "source": [
    "fy = 345      #In N/mm^2\n",
    "if D/t <= 60:\n",
    "    Fy = fy      \n",
    "elif D/t>60 and D/t<300:\n",
    "    C = 0.3\n",
    "    Fxe = 2*C*E*t/D  #N/mm^2\n",
    "    Fxc = fy*(1.64-0.23*pow(D/t,0.25))\n",
    "    Fy = min(Fxe,Fxc)\n",
    "E = 2.0e+05   #In N/mm^2\n",
    "cc = np.sqrt(2*(np.pi**2)*E/Fy)\n",
    "#given moment along yy and zz\n",
    "myy = 1000 #Kn-m\n",
    "mzz = 1000 #KN-m"
   ]
  },
  {
   "cell_type": "code",
   "execution_count": 57,
   "metadata": {},
   "outputs": [
    {
     "name": "stdout",
     "output_type": "stream",
     "text": [
      "I:  870095501.3382291\n",
      "A:  30159.289474462013\n",
      "r:  169.85287751463028\n",
      "d:  460\n",
      "kl/r:  56.51950170330852\n",
      "Cc =  106.97205053408074\n",
      "Axial stress given:  39.78873577297384\n",
      "Fa:  160.77254948963403\n",
      "-----------------------------------------------\n",
      "Member is suitable for compressive stress\n"
     ]
    }
   ],
   "source": [
    "#Allowable compressive Axial stress Fa\n",
    "\n",
    "klrcc = klr/cc\n",
    "if klr<cc:\n",
    "    Fa = ((1-pow(klrcc,2)/2)*Fy)/(5/3 + (3*klrcc)/8 - pow(klrcc,3)/8) #N/mm^2  \n",
    "elif klr>=cc:\n",
    "    Fa = (12*np.pi**2*E)/(23*pow(klrcc,2))    #N/mm^2 \n",
    "print('I: ',I)\n",
    "print(\"A: \",A)\n",
    "print(\"r: \",r)\n",
    "print(\"d: \",d)\n",
    "print(\"kl/r: \",klr)\n",
    "print(\"Cc = \",cc)\n",
    "print(\"Axial stress given: \",fa) # in N/mm^2\n",
    "print(\"Fa: \",Fa)\n",
    "print('-----------------------------------------------')\n",
    "if Fa>fa:\n",
    "    print(\"Member is suitable for compressive stress\")\n",
    "else:\n",
    "    print(\"Member is not suitable for compressive stress\")"
   ]
  },
  {
   "cell_type": "code",
   "execution_count": 58,
   "metadata": {},
   "outputs": [
    {
     "name": "stdout",
     "output_type": "stream",
     "text": [
      "Max Load carrying capacity if only axial applied:  4848785.859605143\n"
     ]
    }
   ],
   "source": [
    "#Max Load carrying capacity if only axial applied\n",
    "print(\"Max Load carrying capacity if only axial applied: \",Fa*A)"
   ]
  },
  {
   "cell_type": "code",
   "execution_count": 59,
   "metadata": {},
   "outputs": [
    {
     "name": "stdout",
     "output_type": "stream",
     "text": [
      "Ft:  207.0\n",
      "Member is suitable for tensile stress\n"
     ]
    }
   ],
   "source": [
    "#Allowable Tensile stress\n",
    "Ft = 0.6*Fy\n",
    "if Ft>fa:\n",
    "    print(\"Ft: \",Ft)\n",
    "    print('Member is suitable for tensile stress')\n",
    "else:\n",
    "    print('Member is not suitable for tensile stress')"
   ]
  },
  {
   "cell_type": "code",
   "execution_count": 60,
   "metadata": {},
   "outputs": [
    {
     "name": "stdout",
     "output_type": "stream",
     "text": [
      "Applied bending stresses  [287.32478172 287.32478172]\n"
     ]
    }
   ],
   "source": [
    "#check for Bending\n",
    "fb = np.zeros(2)\n",
    "fb[0] = (myy*(D/2)*1e+06)/I  #N/mm^2\n",
    "fb[1] = (mzz*(D/2)*1e+06)/I  #N/mm^2\n",
    "print(\"Applied bending stresses \",fb)"
   ]
  },
  {
   "cell_type": "code",
   "execution_count": 61,
   "metadata": {},
   "outputs": [
    {
     "name": "stdout",
     "output_type": "stream",
     "text": [
      "Fb : 258.75\n",
      "Not safe by any bending\n"
     ]
    }
   ],
   "source": [
    "if D/t <= 10340/Fy:\n",
    "    Fb = 0.75*Fy\n",
    "elif 10340/Fy < D/t and D/t<20680/Fy:\n",
    "    Fb = (0.84-1.74*((Fy*D)/(E*t)))*Fy    #N/mm^2\n",
    "else:\n",
    "    Fb = (0.72-0.58*((Fy*D)/(E*t)))*Fy    #N/mm^2\n",
    "print(\"Fb :\",Fb)\n",
    "if Fb>fb[0] and Fb>fb[1]:\n",
    "    print(\"Safe in inplane and outplane bending\")\n",
    "elif Fb>fb[0] and Fb<fb[1]:\n",
    "    print(\"Safe in inplane but not in outplane bending\")\n",
    "elif Fb<fb[0] and Fb>fb[1]:\n",
    "    print(\"Safe in outplane but not in inplane bending\")\n",
    "else:\n",
    "    print(\"Not safe by any bending\")"
   ]
  },
  {
   "cell_type": "code",
   "execution_count": 52,
   "metadata": {},
   "outputs": [
    {
     "name": "stdout",
     "output_type": "stream",
     "text": [
      "fh : 13.733999999999998\n",
      "Fhc : 110.0\n"
     ]
    }
   ],
   "source": [
    "#Check for hydrostatics\n",
    "p = rho*g*depth*1e+03 #N/mm^2\n",
    "fh = p*D/(2*t)\n",
    "M = (l/D)*np.sqrt(2*D/t)\n",
    "if M >= 1.6*D/t:\n",
    "    ch = 0.44*t/D\n",
    "elif 0.825*D/t<= M and M< 1.6*D/t:\n",
    "    ch = 0.44*t/D + (0.21*pow(D/t,3))/(pow(M,4))\n",
    "elif 3.5<= M and M< 0.825*D/t:\n",
    "    ch = 0.736/(M-0.636)\n",
    "elif 1.5<=M and M< 3.5:\n",
    "    ch = 0.755/(M-0.559)\n",
    "elif M<1.5:\n",
    "    0.8\n",
    "Fhe = 2*ch*E*t/D #N/mm^2\n",
    "if Fhe <= 0.55*Fy:\n",
    "    Fhc = Fhe\n",
    "elif 0.55*Fy < Fhe and Fhe<= 1.6*Fy:\n",
    "    Fhc = 0.45*Fy + 0.18*Fhe\n",
    "elif 1.6*Fy < Fhe and Fhe <6.2*Fy:\n",
    "    Fhc = (1.31*Fy)/(1.15 + (Fy/Fhe))\n",
    "else:\n",
    "    Fhc = Fy\n",
    "print(\"fh :\",fh)\n",
    "print(\"Fhc :\",Fhc)"
   ]
  },
  {
   "cell_type": "code",
   "execution_count": 53,
   "metadata": {},
   "outputs": [
    {
     "name": "stdout",
     "output_type": "stream",
     "text": [
      "Safe against Hydrostatic pressure\n",
      "Fhc/SFh : 55.0\n"
     ]
    }
   ],
   "source": [
    "#To find SFh , API RP 2A,Pg 44,3.3.5\n",
    "#during normal loads \n",
    "SFh = 2 #Hoop comp using basic allowable stress\n",
    "# during stormy condition\n",
    "#SFh = 1.5\n",
    "FHS = Fhc/SFh   #N/mm^2\n",
    "if FHS>fh:\n",
    "    print('Safe against Hydrostatic pressure')\n",
    "else:\n",
    "    print('Not safe against Hydrostatic pressure')\n",
    "print(\"Fhc/SFh :\",FHS)"
   ]
  },
  {
   "cell_type": "code",
   "execution_count": 54,
   "metadata": {},
   "outputs": [
    {
     "name": "stdout",
     "output_type": "stream",
     "text": [
      "expression value:  0.3955006706357451\n",
      "Safe in axial compression and bending\n"
     ]
    }
   ],
   "source": [
    "#combined axial compression and bending\n",
    "if fa/Fa > 0.15:\n",
    "    print(\"Check Manually\")\n",
    "elif fa/Fa <= 0.15:\n",
    "    if (fa/Fa) + np.sqrt(fb[0]**2+fb[1]**2)/(Fb) <= 1.0:\n",
    "        print(\"expression value: \",(fa/Fa) + np.sqrt(fb[0]**2+fb[1]**2)/(Fb))\n",
    "        print('Safe in axial compression and bending')\n",
    "    else:\n",
    "        print(\"expression value: \",(fa/Fa) + np.sqrt(fb[0]**2+fb[1]**2)/(Fb))\n",
    "        print('Not safe in axial compression and bending')"
   ]
  },
  {
   "cell_type": "code",
   "execution_count": null,
   "metadata": {},
   "outputs": [],
   "source": []
  }
 ],
 "metadata": {
  "kernelspec": {
   "display_name": "Python 3",
   "language": "python",
   "name": "python3"
  },
  "language_info": {
   "codemirror_mode": {
    "name": "ipython",
    "version": 3
   },
   "file_extension": ".py",
   "mimetype": "text/x-python",
   "name": "python",
   "nbconvert_exporter": "python",
   "pygments_lexer": "ipython3",
   "version": "3.7.6"
  }
 },
 "nbformat": 4,
 "nbformat_minor": 4
}
